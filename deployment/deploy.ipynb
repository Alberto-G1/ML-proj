{
 "cells": [
  {
   "cell_type": "code",
   "execution_count": 9,
   "metadata": {},
   "outputs": [
    {
     "name": "stdout",
     "output_type": "stream",
     "text": [
      "Model successfully converted and saved as 'model_scripted.pt'.\n"
     ]
    }
   ],
   "source": [
    "import torch\n",
    "import torchvision.models as models\n",
    "\n",
    "# Load trained model\n",
    "model = models.resnet18(pretrained=True)\n",
    "num_ftrs = model.fc.in_features\n",
    "model.fc = torch.nn.Linear(num_ftrs, 4)  # Assuming 4 classes\n",
    "\n",
    "# Load saved weights\n",
    "model.load_state_dict(torch.load(\"best_model.pth\", map_location=torch.device(\"cpu\")))\n",
    "model.eval()\n",
    "\n",
    "# Convert to TorchScript\n",
    "scripted_model = torch.jit.script(model)\n",
    "scripted_model.save(\"model_scripted.pt\")\n",
    "\n",
    "print(\"Model successfully converted and saved as 'model_scripted.pt'.\")\n"
   ]
  }
 ],
 "metadata": {
  "kernelspec": {
   "display_name": "coffee_env",
   "language": "python",
   "name": "python3"
  },
  "language_info": {
   "codemirror_mode": {
    "name": "ipython",
    "version": 3
   },
   "file_extension": ".py",
   "mimetype": "text/x-python",
   "name": "python",
   "nbconvert_exporter": "python",
   "pygments_lexer": "ipython3",
   "version": "3.13.1"
  }
 },
 "nbformat": 4,
 "nbformat_minor": 2
}
